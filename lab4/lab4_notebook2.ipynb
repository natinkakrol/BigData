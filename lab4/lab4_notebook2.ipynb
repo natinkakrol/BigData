{
 "cells": [
  {
   "cell_type": "markdown",
   "metadata": {
    "application/vnd.databricks.v1+cell": {
     "cellMetadata": {
      "byteLimit": 2048000,
      "rowLimit": 10000
     },
     "inputWidgets": {},
     "nuid": "7f0d5a47-019c-443c-8f05-ea3fff32fcc8",
     "showTitle": false,
     "tableResultSettingsMap": {},
     "title": ""
    }
   },
   "source": [
    "#Zadanie 1 i Zadanie 2"
   ]
  },
  {
   "cell_type": "code",
   "execution_count": 0,
   "metadata": {
    "application/vnd.databricks.v1+cell": {
     "cellMetadata": {
      "byteLimit": 2048000,
      "rowLimit": 10000
     },
     "inputWidgets": {},
     "nuid": "e546ee25-c6a8-4686-ac9d-7f50f143ab6e",
     "showTitle": false,
     "tableResultSettingsMap": {},
     "title": ""
    }
   },
   "outputs": [
    {
     "output_type": "stream",
     "name": "stdout",
     "output_type": "stream",
     "text": [
      "+---------+----------+-------+--------+--------+--------+--------+----------+---+-----------+-----------+------------+-----------+---------+\n|AccountId|  TranDate|TranAmt|SlideAvg|SlideQty|SlideMin|SlideMax|SlideTotal| RN|PrevTranAmt|NextTranAmt|FirstTranAmt|LastTranAmt|RowNumber|\n+---------+----------+-------+--------+--------+--------+--------+----------+---+-----------+-----------+------------+-----------+---------+\n|       A1|2024-01-01|  100.0|   100.0|       1|   100.0|   100.0|     100.0|  1|       null|      150.0|       100.0|      100.0|        1|\n|       A1|2024-01-02|  150.0|   125.0|       2|   100.0|   150.0|     250.0|  2|      100.0|      200.0|       100.0|      150.0|        2|\n|       A1|2024-01-03|  200.0|   150.0|       3|   100.0|   200.0|     450.0|  3|      150.0|      250.0|       100.0|      200.0|        3|\n|       A1|2024-01-04|  250.0|   200.0|       3|   150.0|   250.0|     600.0|  4|      200.0|       null|       100.0|      250.0|        4|\n|       A2|2024-01-01|  300.0|   300.0|       1|   300.0|   300.0|     300.0|  1|       null|      350.0|       300.0|      300.0|        1|\n|       A2|2024-01-02|  350.0|   325.0|       2|   300.0|   350.0|     650.0|  2|      300.0|      400.0|       300.0|      350.0|        2|\n|       A2|2024-01-03|  400.0|   350.0|       3|   300.0|   400.0|    1050.0|  3|      350.0|       null|       300.0|      400.0|        3|\n+---------+----------+-------+--------+--------+--------+--------+----------+---+-----------+-----------+------------+-----------+---------+\n\n"
     ]
    }
   ],
   "source": [
    "from pyspark.sql import SparkSession\n",
    "from pyspark.sql.functions import avg, count, min, max, sum, row_number, lag, lead, first, last\n",
    "from pyspark.sql.window import Window\n",
    "from pyspark.sql.types import StructType, StructField, StringType, DoubleType, DateType\n",
    "from datetime import date\n",
    "\n",
    "data = [\n",
    "    (\"A1\", date(2024, 1, 1), 100.0),\n",
    "    (\"A1\", date(2024, 1, 2), 150.0),\n",
    "    (\"A1\", date(2024, 1, 3), 200.0),\n",
    "    (\"A1\", date(2024, 1, 4), 250.0),\n",
    "    (\"A2\", date(2024, 1, 1), 300.0),\n",
    "    (\"A2\", date(2024, 1, 2), 350.0),\n",
    "    (\"A2\", date(2024, 1, 3), 400.0),\n",
    "]\n",
    "\n",
    "schema = StructType([\n",
    "    StructField(\"AccountId\", StringType(), True),\n",
    "    StructField(\"TranDate\", DateType(), True),\n",
    "    StructField(\"TranAmt\", DoubleType(), True),\n",
    "])\n",
    "\n",
    "df = spark.createDataFrame(data, schema)\n",
    "window_slide = Window.partitionBy(\"AccountId\").orderBy(\"TranDate\").rowsBetween(-2, 0)\n",
    "window_order = Window.partitionBy(\"AccountId\").orderBy(\"TranDate\")\n",
    "\n",
    "df_with_windows = df.select(\n",
    "    \"*\",\n",
    "    avg(\"TranAmt\").over(window_slide).alias(\"SlideAvg\"),\n",
    "    count(\"*\").over(window_slide).alias(\"SlideQty\"),\n",
    "    min(\"TranAmt\").over(window_slide).alias(\"SlideMin\"),\n",
    "    max(\"TranAmt\").over(window_slide).alias(\"SlideMax\"),\n",
    "    sum(\"TranAmt\").over(window_slide).alias(\"SlideTotal\"),\n",
    "    row_number().over(window_order).alias(\"RN\"),\n",
    "    lag(\"TranAmt\", 1).over(window_order).alias(\"PrevTranAmt\"),\n",
    "    lead(\"TranAmt\", 1).over(window_order).alias(\"NextTranAmt\"),\n",
    "    first(\"TranAmt\").over(window_order).alias(\"FirstTranAmt\"),\n",
    "    last(\"TranAmt\").over(window_order).alias(\"LastTranAmt\"),\n",
    "    row_number().over(window_order).alias(\"RowNumber\")\n",
    ")\n",
    "\n",
    "df_with_windows.show()"
   ]
  }
 ],
 "metadata": {
  "application/vnd.databricks.v1+notebook": {
   "computePreferences": null,
   "dashboards": [],
   "environmentMetadata": {
    "base_environment": "",
    "environment_version": "1"
   },
   "inputWidgetPreferences": null,
   "language": "python",
   "notebookMetadata": {
    "pythonIndentUnit": 4
   },
   "notebookName": "lab4_notebook2",
   "widgets": {}
  }
 },
 "nbformat": 4,
 "nbformat_minor": 0
}